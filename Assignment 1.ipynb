{
 "cells": [
  {
   "cell_type": "code",
   "execution_count": 2,
   "id": "dbad63ab-bd89-4b8b-9207-1bf40a76ef27",
   "metadata": {},
   "outputs": [],
   "source": [
    "# Question 1"
   ]
  },
  {
   "cell_type": "code",
   "execution_count": 4,
   "id": "4f63acac-47f5-4fb4-9a46-5b51d29cc034",
   "metadata": {},
   "outputs": [],
   "source": [
    "a = \"Rohit Malan\""
   ]
  },
  {
   "cell_type": "code",
   "execution_count": 5,
   "id": "711d742f-b33a-4bad-bfff-e675f5a2b9e3",
   "metadata": {
    "tags": []
   },
   "outputs": [
    {
     "data": {
      "text/plain": [
       "str"
      ]
     },
     "execution_count": 5,
     "metadata": {},
     "output_type": "execute_result"
    }
   ],
   "source": [
    "type(a)"
   ]
  },
  {
   "cell_type": "code",
   "execution_count": 8,
   "id": "047fda23-fb24-4904-b36c-a2ad545bf68e",
   "metadata": {},
   "outputs": [],
   "source": [
    "l = [ 1, 2, 3, 4, \"rohit\", \"data science\", True, 45.26 ]"
   ]
  },
  {
   "cell_type": "code",
   "execution_count": 9,
   "id": "848eed43-2636-4fb3-95b0-37c65cc56c91",
   "metadata": {},
   "outputs": [
    {
     "data": {
      "text/plain": [
       "list"
      ]
     },
     "execution_count": 9,
     "metadata": {},
     "output_type": "execute_result"
    }
   ],
   "source": [
    "type (l)"
   ]
  },
  {
   "cell_type": "code",
   "execution_count": 13,
   "id": "de6e2377-a62b-4f14-b274-bcf3eb0e3bee",
   "metadata": {},
   "outputs": [],
   "source": [
    "b = 45.265"
   ]
  },
  {
   "cell_type": "code",
   "execution_count": 14,
   "id": "ef9eaee1-653a-439e-8a98-7a4cd7265258",
   "metadata": {},
   "outputs": [
    {
     "data": {
      "text/plain": [
       "float"
      ]
     },
     "execution_count": 14,
     "metadata": {},
     "output_type": "execute_result"
    }
   ],
   "source": [
    "type (b)"
   ]
  },
  {
   "cell_type": "code",
   "execution_count": 15,
   "id": "d859f5a3-88f9-4975-b823-8446ccb83329",
   "metadata": {},
   "outputs": [],
   "source": [
    "c = ( 1, 2, 4, \"rohit\", \"data science\", True, 45.26)"
   ]
  },
  {
   "cell_type": "code",
   "execution_count": 16,
   "id": "17268317-a03b-4ca0-9e2a-ef9bd4181f1c",
   "metadata": {},
   "outputs": [
    {
     "data": {
      "text/plain": [
       "tuple"
      ]
     },
     "execution_count": 16,
     "metadata": {},
     "output_type": "execute_result"
    }
   ],
   "source": [
    "type (c)"
   ]
  },
  {
   "cell_type": "code",
   "execution_count": 17,
   "id": "cd938473-770b-444c-850b-3e84c1548ac8",
   "metadata": {},
   "outputs": [],
   "source": [
    "# Question 2"
   ]
  },
  {
   "cell_type": "code",
   "execution_count": 19,
   "id": "3349f458-344e-4062-a3d3-4b1acb24f90c",
   "metadata": {},
   "outputs": [],
   "source": [
    "var1 = \" \""
   ]
  },
  {
   "cell_type": "code",
   "execution_count": 21,
   "id": "b143774b-44e4-41db-a604-3b3b470562e1",
   "metadata": {},
   "outputs": [
    {
     "data": {
      "text/plain": [
       "str"
      ]
     },
     "execution_count": 21,
     "metadata": {},
     "output_type": "execute_result"
    }
   ],
   "source": [
    "type (var1)"
   ]
  },
  {
   "cell_type": "code",
   "execution_count": 22,
   "id": "23faebfb-5681-4118-8fd7-a9c7b513a81e",
   "metadata": {},
   "outputs": [],
   "source": [
    "var2 = '[ DS , ML , Python]'"
   ]
  },
  {
   "cell_type": "code",
   "execution_count": 23,
   "id": "57164244-701e-4f21-a747-afe3b5a513b6",
   "metadata": {},
   "outputs": [
    {
     "data": {
      "text/plain": [
       "str"
      ]
     },
     "execution_count": 23,
     "metadata": {},
     "output_type": "execute_result"
    }
   ],
   "source": [
    "type (var2)"
   ]
  },
  {
   "cell_type": "code",
   "execution_count": 25,
   "id": "e8ecdcf3-766a-4f24-8be3-31bbc40b68af",
   "metadata": {},
   "outputs": [],
   "source": [
    "var3 = [ 'DS' , 'ML' , 'Python' ]"
   ]
  },
  {
   "cell_type": "code",
   "execution_count": 26,
   "id": "9b2694a5-70e9-4ba7-b593-9082b24fa911",
   "metadata": {},
   "outputs": [
    {
     "data": {
      "text/plain": [
       "list"
      ]
     },
     "execution_count": 26,
     "metadata": {},
     "output_type": "execute_result"
    }
   ],
   "source": [
    "type (var3)"
   ]
  },
  {
   "cell_type": "code",
   "execution_count": 27,
   "id": "a492f8df-ee73-4175-9908-77236bd1ce7b",
   "metadata": {},
   "outputs": [],
   "source": [
    "var4 = 1."
   ]
  },
  {
   "cell_type": "code",
   "execution_count": 28,
   "id": "6f4637bd-4ae5-455d-b5b4-5f96cc99715c",
   "metadata": {},
   "outputs": [
    {
     "data": {
      "text/plain": [
       "float"
      ]
     },
     "execution_count": 28,
     "metadata": {},
     "output_type": "execute_result"
    }
   ],
   "source": [
    "type (var4)"
   ]
  },
  {
   "cell_type": "code",
   "execution_count": 29,
   "id": "2363bc5d-2d0c-4380-89d1-da2e46e59768",
   "metadata": {},
   "outputs": [],
   "source": [
    "# Question 3"
   ]
  },
  {
   "cell_type": "code",
   "execution_count": 30,
   "id": "d884edb9-e44f-4dec-95a3-b9b53b99e16c",
   "metadata": {},
   "outputs": [
    {
     "data": {
      "text/plain": [
       "2.0"
      ]
     },
     "execution_count": 30,
     "metadata": {},
     "output_type": "execute_result"
    }
   ],
   "source": [
    " 4/2"
   ]
  },
  {
   "cell_type": "code",
   "execution_count": 31,
   "id": "726cbd8c-e85c-4487-93e3-774fbf071a06",
   "metadata": {},
   "outputs": [
    {
     "data": {
      "text/plain": [
       "1"
      ]
     },
     "execution_count": 31,
     "metadata": {},
     "output_type": "execute_result"
    }
   ],
   "source": [
    "5%2"
   ]
  },
  {
   "cell_type": "code",
   "execution_count": 32,
   "id": "95fec601-2c65-4e2c-8dd8-ba202a113ad7",
   "metadata": {},
   "outputs": [
    {
     "data": {
      "text/plain": [
       "2"
      ]
     },
     "execution_count": 32,
     "metadata": {},
     "output_type": "execute_result"
    }
   ],
   "source": [
    "5 // 2"
   ]
  },
  {
   "cell_type": "code",
   "execution_count": 33,
   "id": "8d6ab274-04a7-4a6f-b624-7b325ae58758",
   "metadata": {},
   "outputs": [
    {
     "data": {
      "text/plain": [
       "32"
      ]
     },
     "execution_count": 33,
     "metadata": {},
     "output_type": "execute_result"
    }
   ],
   "source": [
    "2**5"
   ]
  },
  {
   "cell_type": "code",
   "execution_count": 34,
   "id": "458873d8-4810-43ea-99b0-d10cee4e53a8",
   "metadata": {},
   "outputs": [],
   "source": [
    "# Question 4"
   ]
  },
  {
   "cell_type": "code",
   "execution_count": 35,
   "id": "4545feb4-16e1-46fa-8348-a934651e042e",
   "metadata": {},
   "outputs": [],
   "source": [
    "x = [ 1, 2, 3, 4, 5, \"rohit\", \"pwskills\", True, False, 15.26]"
   ]
  },
  {
   "cell_type": "code",
   "execution_count": 41,
   "id": "157ab00b-a662-4eb9-8ae8-678d73612663",
   "metadata": {
    "tags": []
   },
   "outputs": [
    {
     "name": "stdout",
     "output_type": "stream",
     "text": [
      "1 <class 'int'>\n",
      "2 <class 'int'>\n",
      "3 <class 'int'>\n",
      "4 <class 'int'>\n",
      "5 <class 'int'>\n",
      "rohit <class 'str'>\n",
      "pwskills <class 'str'>\n",
      "True <class 'bool'>\n",
      "False <class 'bool'>\n",
      "15.26 <class 'float'>\n"
     ]
    }
   ],
   "source": [
    "for i in x:\n",
    "    print (i, type(i))"
   ]
  },
  {
   "cell_type": "code",
   "execution_count": null,
   "id": "4e6119d1-24ca-444e-89cb-db2feb64b1d8",
   "metadata": {
    "tags": []
   },
   "outputs": [],
   "source": [
    "# question 5"
   ]
  },
  {
   "cell_type": "code",
   "execution_count": null,
   "id": "68fecc77-5e33-4e84-a9eb-8624e927e781",
   "metadata": {},
   "outputs": [],
   "source": [
    "A = int (input('First number = ')"
   ]
  },
  {
   "cell_type": "code",
   "execution_count": null,
   "id": "f0046056-9665-4048-84c8-621eed093ec7",
   "metadata": {},
   "outputs": [],
   "source": []
  }
 ],
 "metadata": {
  "kernelspec": {
   "display_name": "Python 3 (ipykernel)",
   "language": "python",
   "name": "python3"
  },
  "language_info": {
   "codemirror_mode": {
    "name": "ipython",
    "version": 3
   },
   "file_extension": ".py",
   "mimetype": "text/x-python",
   "name": "python",
   "nbconvert_exporter": "python",
   "pygments_lexer": "ipython3",
   "version": "3.10.8"
  }
 },
 "nbformat": 4,
 "nbformat_minor": 5
}
